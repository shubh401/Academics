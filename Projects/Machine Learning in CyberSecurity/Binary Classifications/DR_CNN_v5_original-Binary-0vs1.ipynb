{
 "cells": [
  {
   "cell_type": "markdown",
   "metadata": {},
   "source": [
    "# DC-GAN - Prediction - Type 0 vs Type 1 - Diabetic Retinopathy"
   ]
  },
  {
   "cell_type": "code",
   "execution_count": 1,
   "metadata": {},
   "outputs": [
    {
     "name": "stderr",
     "output_type": "stream",
     "text": [
      "Using TensorFlow backend.\n"
     ]
    }
   ],
   "source": [
    "import os\n",
    "import matplotlib\n",
    "import numpy as np\n",
    "import pandas as pd\n",
    "from PIL import Image\n",
    "from tqdm import tqdm\n",
    "import matplotlib.pyplot as plt\n",
    "from keras.utils import np_utils\n",
    "from sklearn.utils import shuffle\n",
    "from keras.models import Sequential\n",
    "from keras.models import load_model\n",
    "from keras.preprocessing import image\n",
    "from keras.optimizers import SGD,RMSprop,adam\n",
    "from sklearn.model_selection import train_test_split\n",
    "from keras.preprocessing.image import ImageDataGenerator\n",
    "from keras.layers.core import Dense, Dropout, Activation, Flatten\n",
    "from keras.layers.convolutional import Convolution2D, MaxPooling2D\n",
    "from sklearn.metrics import confusion_matrix, classification_report"
   ]
  },
  {
   "cell_type": "code",
   "execution_count": 2,
   "metadata": {},
   "outputs": [],
   "source": [
    "from PIL import ImageFile\n",
    "ImageFile.LOAD_TRUNCATED_IMAGES = True"
   ]
  },
  {
   "cell_type": "code",
   "execution_count": 3,
   "metadata": {},
   "outputs": [],
   "source": [
    "os.environ[\"CUDA_VISIBLE_DEVICES\"]=\"0\""
   ]
  },
  {
   "cell_type": "code",
   "execution_count": 4,
   "metadata": {},
   "outputs": [
    {
     "data": {
      "text/html": [
       "<div>\n",
       "<style scoped>\n",
       "    .dataframe tbody tr th:only-of-type {\n",
       "        vertical-align: middle;\n",
       "    }\n",
       "\n",
       "    .dataframe tbody tr th {\n",
       "        vertical-align: top;\n",
       "    }\n",
       "\n",
       "    .dataframe thead th {\n",
       "        text-align: right;\n",
       "    }\n",
       "</style>\n",
       "<table border=\"1\" class=\"dataframe\">\n",
       "  <thead>\n",
       "    <tr style=\"text-align: right;\">\n",
       "      <th></th>\n",
       "      <th>image</th>\n",
       "      <th>level</th>\n",
       "    </tr>\n",
       "  </thead>\n",
       "  <tbody>\n",
       "    <tr>\n",
       "      <th>0</th>\n",
       "      <td>10_left</td>\n",
       "      <td>0</td>\n",
       "    </tr>\n",
       "    <tr>\n",
       "      <th>1</th>\n",
       "      <td>10_right</td>\n",
       "      <td>0</td>\n",
       "    </tr>\n",
       "    <tr>\n",
       "      <th>2</th>\n",
       "      <td>13_left</td>\n",
       "      <td>0</td>\n",
       "    </tr>\n",
       "    <tr>\n",
       "      <th>3</th>\n",
       "      <td>13_right</td>\n",
       "      <td>0</td>\n",
       "    </tr>\n",
       "    <tr>\n",
       "      <th>4</th>\n",
       "      <td>15_left</td>\n",
       "      <td>1</td>\n",
       "    </tr>\n",
       "  </tbody>\n",
       "</table>\n",
       "</div>"
      ],
      "text/plain": [
       "      image  level\n",
       "0   10_left      0\n",
       "1  10_right      0\n",
       "2   13_left      0\n",
       "3  13_right      0\n",
       "4   15_left      1"
      ]
     },
     "execution_count": 4,
     "metadata": {},
     "output_type": "execute_result"
    }
   ],
   "source": [
    "trainLabels = pd.read_csv(\"trainLabels.csv\")\n",
    "trainLabels.head()"
   ]
  },
  {
   "cell_type": "markdown",
   "metadata": {},
   "source": [
    "## Data Loader"
   ]
  },
  {
   "cell_type": "code",
   "execution_count": 5,
   "metadata": {},
   "outputs": [],
   "source": [
    "img_rows, img_cols = 200, 200"
   ]
  },
  {
   "cell_type": "code",
   "execution_count": null,
   "metadata": {},
   "outputs": [],
   "source": [
    "listing_0 = os.listdir(\"dataset/dcgan_v3/train0/train_0\")\n",
    "listing_0 = listing_0[:700]"
   ]
  },
  {
   "cell_type": "code",
   "execution_count": null,
   "metadata": {},
   "outputs": [],
   "source": [
    "immatrix = []\n",
    "imlabel = []\n",
    "\n",
    "with tqdm(listing_0) as pbar:\n",
    "    for file in listing_0:\n",
    "        base = os.path.basename(\"dataset/dcgan_v3/train0/train_0/\" + file)\n",
    "        fileName = os.path.splitext(base)[0]\n",
    "        imlabel.append(0)\n",
    "        im = Image.open(\"dataset/dcgan_v3/train0/train_0/\" + file)   \n",
    "        img = im.resize((img_rows,img_cols))\n",
    "        gray = img.convert('L')\n",
    "        immatrix.append(np.array(gray).flatten())\n",
    "        pbar.update(1)"
   ]
  },
  {
   "cell_type": "code",
   "execution_count": null,
   "metadata": {},
   "outputs": [],
   "source": [
    "listing_1 = os.listdir(\"dataset/dcgan_v3/train1/train_1/\")\n",
    "listing_1 = listing_1[:700]"
   ]
  },
  {
   "cell_type": "code",
   "execution_count": null,
   "metadata": {},
   "outputs": [],
   "source": [
    "with tqdm(listing_1) as pbar:\n",
    "    for file in listing_1:\n",
    "        base = os.path.basename(\"dataset/dcgan_v3/train1/train_1/\" + file)\n",
    "        fileName = os.path.splitext(base)[0]\n",
    "        imlabel.append(1)\n",
    "        im = Image.open(\"dataset/dcgan_v3/train1/train_1/\" + file)   \n",
    "        img = im.resize((img_rows,img_cols))\n",
    "        gray = img.convert('L')\n",
    "        immatrix.append(np.array(gray).flatten())\n",
    "        pbar.update(1)\n",
    "\n",
    "immatrix = np.asarray(immatrix)\n",
    "imlabel = np.asarray(imlabel)"
   ]
  },
  {
   "cell_type": "code",
   "execution_count": null,
   "metadata": {},
   "outputs": [],
   "source": [
    "np.save('matrices/immatrix_4_01.npy', immatrix)\n",
    "np.save('matrices/imlabel_4_01.npy', imlabel)"
   ]
  },
  {
   "cell_type": "code",
   "execution_count": 6,
   "metadata": {},
   "outputs": [],
   "source": [
    "immatrix = np.load('matrices/immatrix_4_01.npy')\n",
    "imlabel = np.load('matrices/imlabel_4_01.npy')"
   ]
  },
  {
   "cell_type": "markdown",
   "metadata": {},
   "source": [
    "## Data Preprocessing"
   ]
  },
  {
   "cell_type": "code",
   "execution_count": 7,
   "metadata": {},
   "outputs": [],
   "source": [
    "data,Label = shuffle(immatrix,imlabel, random_state=2)\n",
    "train_data = [data,Label]"
   ]
  },
  {
   "cell_type": "code",
   "execution_count": 8,
   "metadata": {},
   "outputs": [
    {
     "data": {
      "text/plain": [
       "<matplotlib.image.AxesImage at 0x7f79add64748>"
      ]
     },
     "execution_count": 8,
     "metadata": {},
     "output_type": "execute_result"
    },
    {
     "data": {
      "image/png": "[encoded data removed]",
      "text/plain": [
       "<Figure size 432x288 with 1 Axes>"
      ]
     },
     "metadata": {
      "needs_background": "light"
     },
     "output_type": "display_data"
    }
   ],
   "source": [
    "img=immatrix[167].reshape(img_rows,img_cols)\n",
    "plt.imshow(img)\n",
    "plt.imshow(img,cmap='gray')"
   ]
  },
  {
   "cell_type": "code",
   "execution_count": 9,
   "metadata": {},
   "outputs": [],
   "source": [
    "batch_size = 8\n",
    "nb_classes = 2\n",
    "nb_epoch = 50\n",
    "nb_filters = 32\n",
    "nb_pool = 2\n",
    "nb_conv = 3\n",
    "\n",
    "(X, y) = (train_data[0],train_data[1])"
   ]
  },
  {
   "cell_type": "code",
   "execution_count": 10,
   "metadata": {},
   "outputs": [
    {
     "name": "stdout",
     "output_type": "stream",
     "text": [
      "(1120, 40000)\n",
      "(280, 40000)\n",
      "X_train shape: (1120, 200, 200, 1)\n",
      "1120 train samples\n",
      "280 test samples\n"
     ]
    }
   ],
   "source": [
    "X_train, X_test, y_train, y_test = train_test_split(X, y, test_size=0.2, random_state=4)\n",
    "\n",
    "print(X_train.shape)\n",
    "print(X_test.shape)\n",
    "\n",
    "X_train = X_train.reshape(X_train.shape[0], img_cols, img_rows, 1)\n",
    "X_test = X_test.reshape(X_test.shape[0], img_cols, img_rows, 1)\n",
    "\n",
    "X_train = X_train.astype('float32')\n",
    "X_test = X_test.astype('float32')\n",
    "\n",
    "X_train /= 255\n",
    "X_test /= 255\n",
    "\n",
    "print('X_train shape:', X_train.shape)\n",
    "print(X_train.shape[0], 'train samples')\n",
    "print(X_test.shape[0], 'test samples')"
   ]
  },
  {
   "cell_type": "code",
   "execution_count": 11,
   "metadata": {},
   "outputs": [],
   "source": [
    "Y_train = np_utils.to_categorical(y_train, nb_classes)\n",
    "Y_test = np_utils.to_categorical(y_test, nb_classes)"
   ]
  },
  {
   "cell_type": "markdown",
   "metadata": {},
   "source": [
    "## CNN Model Definition"
   ]
  },
  {
   "cell_type": "code",
   "execution_count": 12,
   "metadata": {},
   "outputs": [
    {
     "name": "stderr",
     "output_type": "stream",
     "text": [
      "/raid/mlcysec19/software/anaconda3/envs/pytorch/lib/python3.6/site-packages/ipykernel_launcher.py:5: UserWarning: Update your `Conv2D` call to the Keras 2 API: `Conv2D(32, (3, 3), input_shape=(200, 200,..., padding=\"valid\")`\n",
      "  \"\"\"\n",
      "/raid/mlcysec19/software/anaconda3/envs/pytorch/lib/python3.6/site-packages/ipykernel_launcher.py:8: UserWarning: Update your `Conv2D` call to the Keras 2 API: `Conv2D(32, (3, 3))`\n",
      "  \n"
     ]
    }
   ],
   "source": [
    "model = Sequential()\n",
    "\n",
    "model.add(Convolution2D(nb_filters, nb_conv, nb_conv,\n",
    "                        border_mode='valid',\n",
    "                        input_shape=(img_cols, img_rows, 1)))\n",
    "convout1 = Activation('relu')\n",
    "model.add(convout1)\n",
    "model.add(Convolution2D(nb_filters, nb_conv, nb_conv))\n",
    "convout2 = Activation('relu')\n",
    "model.add(convout2)\n",
    "model.add(MaxPooling2D(pool_size=(nb_pool, nb_pool)))\n",
    "model.add(Dropout(0.5))\n",
    "\n",
    "model.add(Flatten())\n",
    "model.add(Dense(128))\n",
    "model.add(Activation('relu'))\n",
    "model.add(Dropout(0.5))\n",
    "model.add(Dense(nb_classes))\n",
    "model.add(Activation('softmax'))\n",
    "model.compile(loss='categorical_crossentropy', optimizer='adadelta', metrics=['accuracy'])"
   ]
  },
  {
   "cell_type": "code",
   "execution_count": 13,
   "metadata": {},
   "outputs": [
    {
     "name": "stdout",
     "output_type": "stream",
     "text": [
      "Model: \"sequential_1\"\n",
      "_________________________________________________________________\n",
      "Layer (type)                 Output Shape              Param #   \n",
      "=================================================================\n",
      "conv2d_1 (Conv2D)            (None, 198, 198, 32)      320       \n",
      "_________________________________________________________________\n",
      "activation_1 (Activation)    (None, 198, 198, 32)      0         \n",
      "_________________________________________________________________\n",
      "conv2d_2 (Conv2D)            (None, 196, 196, 32)      9248      \n",
      "_________________________________________________________________\n",
      "activation_2 (Activation)    (None, 196, 196, 32)      0         \n",
      "_________________________________________________________________\n",
      "max_pooling2d_1 (MaxPooling2 (None, 98, 98, 32)        0         \n",
      "_________________________________________________________________\n",
      "dropout_1 (Dropout)          (None, 98, 98, 32)        0         \n",
      "_________________________________________________________________\n",
      "flatten_1 (Flatten)          (None, 307328)            0         \n",
      "_________________________________________________________________\n",
      "dense_1 (Dense)              (None, 128)               39338112  \n",
      "_________________________________________________________________\n",
      "activation_3 (Activation)    (None, 128)               0         \n",
      "_________________________________________________________________\n",
      "dropout_2 (Dropout)          (None, 128)               0         \n",
      "_________________________________________________________________\n",
      "dense_2 (Dense)              (None, 2)                 258       \n",
      "_________________________________________________________________\n",
      "activation_4 (Activation)    (None, 2)                 0         \n",
      "=================================================================\n",
      "Total params: 39,347,938\n",
      "Trainable params: 39,347,938\n",
      "Non-trainable params: 0\n",
      "_________________________________________________________________\n",
      "None\n"
     ]
    }
   ],
   "source": [
    "print(model.summary())"
   ]
  },
  {
   "cell_type": "markdown",
   "metadata": {},
   "source": [
    "### Data Augmentation"
   ]
  },
  {
   "cell_type": "code",
   "execution_count": 14,
   "metadata": {},
   "outputs": [],
   "source": [
    "validationdatagenerator = ImageDataGenerator()\n",
    "traindatagenerator = ImageDataGenerator(width_shift_range=0.1,height_shift_range=0.1,rotation_range=15,zoom_range=0.1 )\n",
    "\n",
    "train_generator=traindatagenerator.flow(X_train, Y_train, batch_size=batch_size) \n",
    "validation_generator=validationdatagenerator.flow(X_test, Y_test,batch_size=batch_size)"
   ]
  },
  {
   "cell_type": "markdown",
   "metadata": {},
   "source": [
    "## Training"
   ]
  },
  {
   "cell_type": "code",
   "execution_count": 15,
   "metadata": {
    "scrolled": true
   },
   "outputs": [
    {
     "name": "stdout",
     "output_type": "stream",
     "text": [
      "Epoch 1/50\n",
      "140/140 [==============================] - 123s 879ms/step - loss: 0.7460 - accuracy: 0.4964 - val_loss: 0.7010 - val_accuracy: 0.5143\n",
      "Epoch 2/50\n",
      "140/140 [==============================] - 120s 859ms/step - loss: 0.7093 - accuracy: 0.4973 - val_loss: 0.6865 - val_accuracy: 0.5429\n",
      "Epoch 3/50\n",
      "140/140 [==============================] - 111s 793ms/step - loss: 0.6961 - accuracy: 0.5063 - val_loss: 0.6830 - val_accuracy: 0.5250\n",
      "Epoch 4/50\n",
      "140/140 [==============================] - 111s 790ms/step - loss: 0.6957 - accuracy: 0.5348 - val_loss: 0.6981 - val_accuracy: 0.5429\n",
      "Epoch 5/50\n",
      "140/140 [==============================] - 116s 826ms/step - loss: 0.6946 - accuracy: 0.5268 - val_loss: 0.7254 - val_accuracy: 0.5429\n",
      "Epoch 6/50\n",
      "140/140 [==============================] - 110s 783ms/step - loss: 0.6948 - accuracy: 0.4929 - val_loss: 0.6946 - val_accuracy: 0.5714\n",
      "Epoch 7/50\n",
      "140/140 [==============================] - 109s 776ms/step - loss: 0.6929 - accuracy: 0.5411 - val_loss: 0.6932 - val_accuracy: 0.5179\n",
      "Epoch 8/50\n",
      "140/140 [==============================] - 109s 779ms/step - loss: 0.6981 - accuracy: 0.4929 - val_loss: 0.6877 - val_accuracy: 0.5286\n",
      "Epoch 9/50\n",
      "140/140 [==============================] - 110s 787ms/step - loss: 0.6930 - accuracy: 0.5268 - val_loss: 0.7082 - val_accuracy: 0.4893\n",
      "Epoch 10/50\n",
      "140/140 [==============================] - 111s 790ms/step - loss: 0.6928 - accuracy: 0.5107 - val_loss: 0.6829 - val_accuracy: 0.5000\n",
      "Epoch 11/50\n",
      "140/140 [==============================] - 113s 810ms/step - loss: 0.6946 - accuracy: 0.5375 - val_loss: 0.6974 - val_accuracy: 0.4786\n",
      "Epoch 12/50\n",
      "140/140 [==============================] - 110s 786ms/step - loss: 0.6973 - accuracy: 0.5054 - val_loss: 0.6808 - val_accuracy: 0.5286\n",
      "Epoch 13/50\n",
      "140/140 [==============================] - 106s 761ms/step - loss: 0.6984 - accuracy: 0.5241 - val_loss: 0.6664 - val_accuracy: 0.5429\n",
      "Epoch 14/50\n",
      "140/140 [==============================] - 108s 771ms/step - loss: 0.6958 - accuracy: 0.4955 - val_loss: 0.6987 - val_accuracy: 0.4714\n",
      "Epoch 15/50\n",
      "140/140 [==============================] - 110s 784ms/step - loss: 0.6950 - accuracy: 0.4973 - val_loss: 0.6954 - val_accuracy: 0.4714\n",
      "Epoch 16/50\n",
      "140/140 [==============================] - 119s 850ms/step - loss: 0.6943 - accuracy: 0.5223 - val_loss: 0.6863 - val_accuracy: 0.5286\n",
      "Epoch 17/50\n",
      "140/140 [==============================] - 112s 800ms/step - loss: 0.6941 - accuracy: 0.5089 - val_loss: 0.7021 - val_accuracy: 0.5286\n",
      "Epoch 18/50\n",
      "140/140 [==============================] - 108s 768ms/step - loss: 0.6940 - accuracy: 0.5259 - val_loss: 0.6250 - val_accuracy: 0.5286\n",
      "Epoch 19/50\n",
      "140/140 [==============================] - 110s 789ms/step - loss: 0.6947 - accuracy: 0.5196 - val_loss: 0.7086 - val_accuracy: 0.5321\n",
      "Epoch 20/50\n",
      "140/140 [==============================] - 109s 779ms/step - loss: 0.6939 - accuracy: 0.5339 - val_loss: 0.7133 - val_accuracy: 0.5000\n",
      "Epoch 21/50\n",
      "140/140 [==============================] - 113s 805ms/step - loss: 0.6933 - accuracy: 0.5205 - val_loss: 0.6801 - val_accuracy: 0.5607\n",
      "Epoch 22/50\n",
      "140/140 [==============================] - 112s 797ms/step - loss: 0.6929 - accuracy: 0.5241 - val_loss: 0.6872 - val_accuracy: 0.5536\n",
      "Epoch 23/50\n",
      "140/140 [==============================] - 111s 793ms/step - loss: 0.6953 - accuracy: 0.5232 - val_loss: 0.6687 - val_accuracy: 0.5250\n",
      "Epoch 24/50\n",
      "140/140 [==============================] - 109s 776ms/step - loss: 0.6949 - accuracy: 0.5205 - val_loss: 0.7315 - val_accuracy: 0.5464\n",
      "Epoch 25/50\n",
      "140/140 [==============================] - 109s 778ms/step - loss: 0.6959 - accuracy: 0.5232 - val_loss: 0.7067 - val_accuracy: 0.5250\n",
      "Epoch 26/50\n",
      "140/140 [==============================] - 113s 804ms/step - loss: 0.6963 - accuracy: 0.5312 - val_loss: 0.6958 - val_accuracy: 0.5286\n",
      "Epoch 27/50\n",
      "140/140 [==============================] - 110s 787ms/step - loss: 0.6933 - accuracy: 0.5241 - val_loss: 0.6856 - val_accuracy: 0.5286\n",
      "Epoch 28/50\n",
      "140/140 [==============================] - 111s 791ms/step - loss: 0.6930 - accuracy: 0.5312 - val_loss: 0.6667 - val_accuracy: 0.5500\n",
      "Epoch 29/50\n",
      "140/140 [==============================] - 110s 789ms/step - loss: 0.6929 - accuracy: 0.5339 - val_loss: 0.6736 - val_accuracy: 0.5321\n",
      "Epoch 30/50\n",
      "140/140 [==============================] - 113s 807ms/step - loss: 0.6920 - accuracy: 0.5232 - val_loss: 0.6953 - val_accuracy: 0.5321\n",
      "Epoch 31/50\n",
      "140/140 [==============================] - 113s 808ms/step - loss: 0.6928 - accuracy: 0.5295 - val_loss: 0.6752 - val_accuracy: 0.5036\n",
      "Epoch 32/50\n",
      "140/140 [==============================] - 110s 784ms/step - loss: 0.6930 - accuracy: 0.5205 - val_loss: 0.6981 - val_accuracy: 0.5214\n",
      "Epoch 33/50\n",
      "140/140 [==============================] - 111s 795ms/step - loss: 0.6921 - accuracy: 0.5170 - val_loss: 0.7108 - val_accuracy: 0.4929\n",
      "Epoch 34/50\n",
      "140/140 [==============================] - 111s 795ms/step - loss: 0.6934 - accuracy: 0.5241 - val_loss: 0.7255 - val_accuracy: 0.5250\n",
      "Epoch 35/50\n",
      "140/140 [==============================] - 114s 811ms/step - loss: 0.6928 - accuracy: 0.5223 - val_loss: 0.6567 - val_accuracy: 0.4929\n",
      "Epoch 36/50\n",
      "140/140 [==============================] - 111s 795ms/step - loss: 0.6921 - accuracy: 0.5205 - val_loss: 0.6799 - val_accuracy: 0.5214\n",
      "Epoch 37/50\n",
      "140/140 [==============================] - 112s 801ms/step - loss: 0.6932 - accuracy: 0.5107 - val_loss: 0.7015 - val_accuracy: 0.5214\n",
      "Epoch 38/50\n",
      "140/140 [==============================] - 113s 804ms/step - loss: 0.6924 - accuracy: 0.5134 - val_loss: 0.6952 - val_accuracy: 0.5000\n",
      "Epoch 39/50\n",
      "140/140 [==============================] - 109s 781ms/step - loss: 0.6915 - accuracy: 0.5161 - val_loss: 0.7143 - val_accuracy: 0.4821\n",
      "Epoch 40/50\n",
      "140/140 [==============================] - 109s 780ms/step - loss: 0.6917 - accuracy: 0.5170 - val_loss: 0.6633 - val_accuracy: 0.4893\n",
      "Epoch 41/50\n",
      "140/140 [==============================] - 108s 774ms/step - loss: 0.6941 - accuracy: 0.5036 - val_loss: 0.6887 - val_accuracy: 0.4964\n",
      "Epoch 42/50\n",
      "140/140 [==============================] - 111s 796ms/step - loss: 0.6894 - accuracy: 0.5286 - val_loss: 0.7122 - val_accuracy: 0.5286\n",
      "Epoch 43/50\n",
      "140/140 [==============================] - 110s 783ms/step - loss: 0.6964 - accuracy: 0.5143 - val_loss: 0.7031 - val_accuracy: 0.5250\n",
      "Epoch 44/50\n",
      "140/140 [==============================] - 106s 760ms/step - loss: 0.6951 - accuracy: 0.5304 - val_loss: 0.6927 - val_accuracy: 0.4857\n",
      "Epoch 45/50\n",
      "140/140 [==============================] - 106s 760ms/step - loss: 0.6928 - accuracy: 0.5134 - val_loss: 0.7029 - val_accuracy: 0.4786\n",
      "Epoch 46/50\n",
      "140/140 [==============================] - 108s 769ms/step - loss: 0.6954 - accuracy: 0.5277 - val_loss: 0.6836 - val_accuracy: 0.4929\n",
      "Epoch 47/50\n",
      "140/140 [==============================] - 108s 772ms/step - loss: 0.6912 - accuracy: 0.5259 - val_loss: 0.7593 - val_accuracy: 0.4964\n",
      "Epoch 48/50\n",
      "140/140 [==============================] - 109s 781ms/step - loss: 0.6938 - accuracy: 0.5134 - val_loss: 0.7286 - val_accuracy: 0.4679\n",
      "Epoch 49/50\n",
      "140/140 [==============================] - 110s 789ms/step - loss: 0.6911 - accuracy: 0.5232 - val_loss: 0.7125 - val_accuracy: 0.4786\n",
      "Epoch 50/50\n",
      "140/140 [==============================] - 109s 775ms/step - loss: 0.6938 - accuracy: 0.5170 - val_loss: 0.7363 - val_accuracy: 0.5286\n"
     ]
    },
    {
     "data": {
      "text/plain": [
       "<keras.callbacks.callbacks.History at 0x7f79a3116f98>"
      ]
     },
     "execution_count": 15,
     "metadata": {},
     "output_type": "execute_result"
    }
   ],
   "source": [
    "model.fit_generator(train_generator, verbose=1, steps_per_epoch=int(len(X_train)/batch_size), epochs=nb_epoch, validation_data=validation_generator, validation_steps=int(len(X_test)/batch_size))"
   ]
  },
  {
   "cell_type": "code",
   "execution_count": null,
   "metadata": {},
   "outputs": [],
   "source": [
    "model.save(\"model_original_8_50_0vs1.h5\")\n",
    "print(\"Saved model to disk\")"
   ]
  },
  {
   "cell_type": "code",
   "execution_count": null,
   "metadata": {},
   "outputs": [],
   "source": [
    "model = load_model('model_original_8_50_0vs1.h5')\n",
    "model.trainable=False"
   ]
  },
  {
   "cell_type": "markdown",
   "metadata": {},
   "source": [
    "## Evaluation - Model Loss & Accuracy"
   ]
  },
  {
   "cell_type": "code",
   "execution_count": 16,
   "metadata": {},
   "outputs": [
    {
     "name": "stdout",
     "output_type": "stream",
     "text": [
      "280/280 [==============================] - 1s 5ms/step\n",
      "[0.6889364055224827, 0.5285714268684387]\n"
     ]
    }
   ],
   "source": [
    "scores = model.evaluate(X_test, Y_test)\n",
    "print(scores)"
   ]
  },
  {
   "cell_type": "markdown",
   "metadata": {},
   "source": [
    "### Confusion Matrix"
   ]
  },
  {
   "cell_type": "code",
   "execution_count": 17,
   "metadata": {},
   "outputs": [
    {
     "data": {
      "text/plain": [
       "array([[145, 129],\n",
       "       [  3,   3]])"
      ]
     },
     "execution_count": 17,
     "metadata": {},
     "output_type": "execute_result"
    }
   ],
   "source": [
    "y_pred = model.predict(X_test)\n",
    "\n",
    "confusion_matrix(y_pred.argmax(axis=-1), Y_test.argmax(axis=-1))"
   ]
  },
  {
   "cell_type": "markdown",
   "metadata": {},
   "source": [
    "### Precision, Recall & F1 Score - Classification Report"
   ]
  },
  {
   "cell_type": "code",
   "execution_count": 18,
   "metadata": {},
   "outputs": [
    {
     "name": "stdout",
     "output_type": "stream",
     "text": [
      "              precision    recall  f1-score   support\n",
      "\n",
      "           0       0.98      0.53      0.69       274\n",
      "           1       0.02      0.50      0.04         6\n",
      "\n",
      "    accuracy                           0.53       280\n",
      "   macro avg       0.50      0.51      0.37       280\n",
      "weighted avg       0.96      0.53      0.67       280\n",
      "\n"
     ]
    }
   ],
   "source": [
    "print(classification_report(y_pred.argmax(axis=-1), Y_test.argmax(axis=-1)))"
   ]
  },
  {
   "cell_type": "markdown",
   "metadata": {},
   "source": [
    "### Accuracy"
   ]
  },
  {
   "cell_type": "code",
   "execution_count": 19,
   "metadata": {},
   "outputs": [
    {
     "name": "stdout",
     "output_type": "stream",
     "text": [
      "Accuracy:  52.85714285714286\n"
     ]
    }
   ],
   "source": [
    "print(\"Accuracy: \", np.mean(Y_test.argmax(axis=-1) == y_pred.argmax(axis=-1)) * 100)"
   ]
  },
  {
   "cell_type": "markdown",
   "metadata": {},
   "source": [
    "## Training"
   ]
  },
  {
   "cell_type": "code",
   "execution_count": 20,
   "metadata": {
    "scrolled": true
   },
   "outputs": [
    {
     "name": "stdout",
     "output_type": "stream",
     "text": [
      "Epoch 1/50\n",
      "140/140 [==============================] - 110s 788ms/step - loss: 0.6918 - accuracy: 0.5366 - val_loss: 0.7093 - val_accuracy: 0.4714\n",
      "Epoch 2/50\n",
      "140/140 [==============================] - 109s 776ms/step - loss: 0.6923 - accuracy: 0.5170 - val_loss: 0.7047 - val_accuracy: 0.4679\n",
      "Epoch 3/50\n",
      "140/140 [==============================] - 110s 789ms/step - loss: 0.6946 - accuracy: 0.5134 - val_loss: 0.7011 - val_accuracy: 0.4679\n",
      "Epoch 4/50\n",
      "140/140 [==============================] - 110s 789ms/step - loss: 0.6998 - accuracy: 0.5098 - val_loss: 0.7009 - val_accuracy: 0.4929\n",
      "Epoch 5/50\n",
      "140/140 [==============================] - 110s 783ms/step - loss: 0.6930 - accuracy: 0.5170 - val_loss: 0.6537 - val_accuracy: 0.4750\n",
      "Epoch 6/50\n",
      "140/140 [==============================] - 112s 798ms/step - loss: 0.6934 - accuracy: 0.5304 - val_loss: 0.6878 - val_accuracy: 0.5250\n",
      "Epoch 7/50\n",
      "140/140 [==============================] - 108s 769ms/step - loss: 0.6943 - accuracy: 0.5161 - val_loss: 0.7565 - val_accuracy: 0.4964\n",
      "Epoch 8/50\n",
      "140/140 [==============================] - 109s 776ms/step - loss: 0.6902 - accuracy: 0.5259 - val_loss: 0.9410 - val_accuracy: 0.5357\n",
      "Epoch 9/50\n",
      "140/140 [==============================] - 110s 783ms/step - loss: 0.6960 - accuracy: 0.5232 - val_loss: 0.6434 - val_accuracy: 0.4750\n",
      "Epoch 10/50\n",
      "140/140 [==============================] - 107s 766ms/step - loss: 0.6964 - accuracy: 0.5259 - val_loss: 0.6532 - val_accuracy: 0.5286\n",
      "Epoch 11/50\n",
      "140/140 [==============================] - 106s 755ms/step - loss: 0.6924 - accuracy: 0.5161 - val_loss: 0.6881 - val_accuracy: 0.5214\n",
      "Epoch 12/50\n",
      "140/140 [==============================] - 108s 769ms/step - loss: 0.6933 - accuracy: 0.5188 - val_loss: 0.6936 - val_accuracy: 0.4857\n",
      "Epoch 13/50\n",
      "140/140 [==============================] - 113s 804ms/step - loss: 0.6915 - accuracy: 0.5214 - val_loss: 0.5806 - val_accuracy: 0.5500\n",
      "Epoch 14/50\n",
      "140/140 [==============================] - 109s 780ms/step - loss: 0.6942 - accuracy: 0.5170 - val_loss: 0.6744 - val_accuracy: 0.4964\n",
      "Epoch 15/50\n",
      "140/140 [==============================] - 113s 806ms/step - loss: 0.6930 - accuracy: 0.5232 - val_loss: 0.6843 - val_accuracy: 0.5000\n",
      "Epoch 16/50\n",
      "140/140 [==============================] - 111s 791ms/step - loss: 0.6953 - accuracy: 0.5089 - val_loss: 0.6816 - val_accuracy: 0.4750\n",
      "Epoch 17/50\n",
      "140/140 [==============================] - 109s 780ms/step - loss: 0.6925 - accuracy: 0.5214 - val_loss: 0.6490 - val_accuracy: 0.5036\n",
      "Epoch 18/50\n",
      "140/140 [==============================] - 110s 788ms/step - loss: 0.6914 - accuracy: 0.5232 - val_loss: 0.6749 - val_accuracy: 0.4964\n",
      "Epoch 19/50\n",
      "140/140 [==============================] - 111s 794ms/step - loss: 0.6925 - accuracy: 0.5232 - val_loss: 0.7010 - val_accuracy: 0.4821\n",
      "Epoch 20/50\n",
      "140/140 [==============================] - 111s 790ms/step - loss: 0.6897 - accuracy: 0.5348 - val_loss: 0.6833 - val_accuracy: 0.4750\n",
      "Epoch 21/50\n",
      "140/140 [==============================] - 111s 791ms/step - loss: 0.6949 - accuracy: 0.5071 - val_loss: 0.6767 - val_accuracy: 0.5036\n",
      "Epoch 22/50\n",
      "140/140 [==============================] - 113s 807ms/step - loss: 0.6917 - accuracy: 0.5312 - val_loss: 0.6966 - val_accuracy: 0.4786\n",
      "Epoch 23/50\n",
      "140/140 [==============================] - 111s 791ms/step - loss: 0.6928 - accuracy: 0.5179 - val_loss: 0.7001 - val_accuracy: 0.4893\n",
      "Epoch 24/50\n",
      "140/140 [==============================] - 106s 754ms/step - loss: 0.6923 - accuracy: 0.5241 - val_loss: 0.6831 - val_accuracy: 0.5000\n",
      "Epoch 25/50\n",
      "140/140 [==============================] - 105s 749ms/step - loss: 0.6948 - accuracy: 0.5188 - val_loss: 0.6799 - val_accuracy: 0.4857\n",
      "Epoch 26/50\n",
      "140/140 [==============================] - 88s 631ms/step - loss: 0.6928 - accuracy: 0.5134 - val_loss: 0.6901 - val_accuracy: 0.5036\n",
      "Epoch 27/50\n",
      "140/140 [==============================] - 88s 631ms/step - loss: 0.6937 - accuracy: 0.5098 - val_loss: 0.7024 - val_accuracy: 0.4929\n",
      "Epoch 28/50\n",
      "140/140 [==============================] - 87s 619ms/step - loss: 0.6913 - accuracy: 0.5223 - val_loss: 0.6845 - val_accuracy: 0.5000\n",
      "Epoch 29/50\n",
      "140/140 [==============================] - 88s 625ms/step - loss: 0.6929 - accuracy: 0.5259 - val_loss: 0.7136 - val_accuracy: 0.4750\n",
      "Epoch 30/50\n",
      "140/140 [==============================] - 84s 598ms/step - loss: 0.6931 - accuracy: 0.5179 - val_loss: 0.6928 - val_accuracy: 0.4821\n",
      "Epoch 31/50\n",
      "140/140 [==============================] - 86s 615ms/step - loss: 0.6927 - accuracy: 0.5071 - val_loss: 0.6984 - val_accuracy: 0.5071\n",
      "Epoch 32/50\n",
      "140/140 [==============================] - 84s 597ms/step - loss: 0.6923 - accuracy: 0.5259 - val_loss: 0.6951 - val_accuracy: 0.4964\n",
      "Epoch 33/50\n",
      "140/140 [==============================] - 87s 618ms/step - loss: 0.6924 - accuracy: 0.5196 - val_loss: 0.6603 - val_accuracy: 0.4607\n",
      "Epoch 34/50\n",
      "140/140 [==============================] - 90s 646ms/step - loss: 0.6922 - accuracy: 0.5250 - val_loss: 0.6828 - val_accuracy: 0.4786\n",
      "Epoch 35/50\n",
      "140/140 [==============================] - 89s 635ms/step - loss: 0.6948 - accuracy: 0.5223 - val_loss: 0.6903 - val_accuracy: 0.4750\n",
      "Epoch 36/50\n",
      "140/140 [==============================] - 86s 613ms/step - loss: 0.6923 - accuracy: 0.5098 - val_loss: 0.6950 - val_accuracy: 0.4679\n",
      "Epoch 37/50\n",
      "140/140 [==============================] - 89s 634ms/step - loss: 0.6946 - accuracy: 0.5045 - val_loss: 0.7098 - val_accuracy: 0.4786\n",
      "Epoch 38/50\n",
      "140/140 [==============================] - 88s 625ms/step - loss: 0.6928 - accuracy: 0.5259 - val_loss: 0.6617 - val_accuracy: 0.5000\n",
      "Epoch 39/50\n",
      "140/140 [==============================] - 67s 481ms/step - loss: 0.6941 - accuracy: 0.5027 - val_loss: 0.6784 - val_accuracy: 0.4857\n",
      "Epoch 40/50\n",
      "140/140 [==============================] - 68s 487ms/step - loss: 0.6924 - accuracy: 0.5232 - val_loss: 0.7083 - val_accuracy: 0.4929\n",
      "Epoch 41/50\n",
      "140/140 [==============================] - 66s 474ms/step - loss: 0.6954 - accuracy: 0.5259 - val_loss: 0.6944 - val_accuracy: 0.5143\n",
      "Epoch 42/50\n",
      "140/140 [==============================] - 69s 496ms/step - loss: 0.6921 - accuracy: 0.5143 - val_loss: 0.5917 - val_accuracy: 0.4750\n",
      "Epoch 43/50\n",
      "140/140 [==============================] - 67s 475ms/step - loss: 0.7046 - accuracy: 0.5054 - val_loss: 0.7530 - val_accuracy: 0.4821\n",
      "Epoch 44/50\n",
      "140/140 [==============================] - 68s 488ms/step - loss: 0.6931 - accuracy: 0.5027 - val_loss: 0.7142 - val_accuracy: 0.4893\n",
      "Epoch 45/50\n",
      "140/140 [==============================] - 68s 487ms/step - loss: 0.6864 - accuracy: 0.5366 - val_loss: 0.7007 - val_accuracy: 0.4893\n",
      "Epoch 46/50\n",
      "140/140 [==============================] - 69s 490ms/step - loss: 0.6919 - accuracy: 0.5134 - val_loss: 0.6941 - val_accuracy: 0.5179\n",
      "Epoch 47/50\n",
      "140/140 [==============================] - 67s 481ms/step - loss: 0.6918 - accuracy: 0.5170 - val_loss: 0.6642 - val_accuracy: 0.4750\n",
      "Epoch 48/50\n",
      "140/140 [==============================] - 57s 406ms/step - loss: 0.6929 - accuracy: 0.5125 - val_loss: 0.7689 - val_accuracy: 0.4821\n",
      "Epoch 49/50\n",
      "140/140 [==============================] - 46s 329ms/step - loss: 0.6906 - accuracy: 0.5116 - val_loss: 0.7029 - val_accuracy: 0.4893\n",
      "Epoch 50/50\n",
      "140/140 [==============================] - 47s 339ms/step - loss: 0.6885 - accuracy: 0.5304 - val_loss: 0.6838 - val_accuracy: 0.4714\n"
     ]
    },
    {
     "data": {
      "text/plain": [
       "<keras.callbacks.callbacks.History at 0x7f79a302a7b8>"
      ]
     },
     "execution_count": 20,
     "metadata": {},
     "output_type": "execute_result"
    }
   ],
   "source": [
    "model.fit_generator(train_generator, verbose=1, steps_per_epoch=int(len(X_train)/batch_size), epochs=nb_epoch, validation_data=validation_generator, validation_steps=int(len(X_test)/batch_size))"
   ]
  },
  {
   "cell_type": "code",
   "execution_count": 25,
   "metadata": {},
   "outputs": [
    {
     "name": "stdout",
     "output_type": "stream",
     "text": [
      "Saved model to disk\n"
     ]
    }
   ],
   "source": [
    "model.save(\"model_original_8_100_0vs1.h5\")\n",
    "print(\"Saved model to disk\")"
   ]
  },
  {
   "cell_type": "markdown",
   "metadata": {},
   "source": [
    "## Evaluation - Model Loss & Accuracy"
   ]
  },
  {
   "cell_type": "code",
   "execution_count": 21,
   "metadata": {},
   "outputs": [
    {
     "name": "stdout",
     "output_type": "stream",
     "text": [
      "280/280 [==============================] - 1s 2ms/step\n",
      "[0.7074017388480051, 0.4714285731315613]\n"
     ]
    }
   ],
   "source": [
    "scores = model.evaluate(X_test, Y_test)\n",
    "print(scores)"
   ]
  },
  {
   "cell_type": "markdown",
   "metadata": {},
   "source": [
    "### Confusion Matrix"
   ]
  },
  {
   "cell_type": "code",
   "execution_count": 22,
   "metadata": {},
   "outputs": [
    {
     "data": {
      "text/plain": [
       "array([[  6,   6],\n",
       "       [142, 126]])"
      ]
     },
     "execution_count": 22,
     "metadata": {},
     "output_type": "execute_result"
    }
   ],
   "source": [
    "y_pred = model.predict(X_test)\n",
    "\n",
    "confusion_matrix(y_pred.argmax(axis=-1), Y_test.argmax(axis=-1))"
   ]
  },
  {
   "cell_type": "markdown",
   "metadata": {},
   "source": [
    "### Precision, Recall & F1 Score - Classification Report"
   ]
  },
  {
   "cell_type": "code",
   "execution_count": 23,
   "metadata": {},
   "outputs": [
    {
     "name": "stdout",
     "output_type": "stream",
     "text": [
      "              precision    recall  f1-score   support\n",
      "\n",
      "           0       0.04      0.50      0.07        12\n",
      "           1       0.95      0.47      0.63       268\n",
      "\n",
      "    accuracy                           0.47       280\n",
      "   macro avg       0.50      0.49      0.35       280\n",
      "weighted avg       0.92      0.47      0.61       280\n",
      "\n"
     ]
    }
   ],
   "source": [
    "print(classification_report(y_pred.argmax(axis=-1), Y_test.argmax(axis=-1)))"
   ]
  },
  {
   "cell_type": "markdown",
   "metadata": {},
   "source": [
    "### Accuracy"
   ]
  },
  {
   "cell_type": "code",
   "execution_count": 24,
   "metadata": {},
   "outputs": [
    {
     "name": "stdout",
     "output_type": "stream",
     "text": [
      "Accuracy:  47.14285714285714\n"
     ]
    }
   ],
   "source": [
    "print(\"Accuracy: \", np.mean(Y_test.argmax(axis=-1) == y_pred.argmax(axis=-1)) * 100)"
   ]
  },
  {
   "cell_type": "code",
   "execution_count": null,
   "metadata": {},
   "outputs": [],
   "source": []
  }
 ],
 "metadata": {
  "kernelspec": {
   "display_name": "Python 3",
   "language": "python",
   "name": "python3"
  },
  "language_info": {
   "codemirror_mode": {
    "name": "ipython",
    "version": 3
   },
   "file_extension": ".py",
   "mimetype": "text/x-python",
   "name": "python",
   "nbconvert_exporter": "python",
   "pygments_lexer": "ipython3",
   "version": "3.6.9"
  }
 },
 "nbformat": 4,
 "nbformat_minor": 2
}
